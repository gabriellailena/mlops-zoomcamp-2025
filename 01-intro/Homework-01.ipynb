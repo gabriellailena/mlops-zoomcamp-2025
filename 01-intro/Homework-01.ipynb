{
 "cells": [
  {
   "cell_type": "markdown",
   "id": "e7645ed3",
   "metadata": {},
   "source": [
    "# Homework 1\n",
    "\n",
    "Author: @gabriella-ilena\n",
    "\n",
    "This notebooks provides the solution to the 1st part of the MLOps Zoomcamp: 1 - Intro. In this notebook, we will explore the Yellow Taxi Trip datasets from January and February 2023."
   ]
  },
  {
   "cell_type": "markdown",
   "id": "34b85b57",
   "metadata": {},
   "source": [
    "### Library imports"
   ]
  },
  {
   "cell_type": "code",
   "execution_count": 1,
   "id": "2134b682",
   "metadata": {},
   "outputs": [
    {
     "name": "stdout",
     "output_type": "stream",
     "text": [
      "Pandas version: 1.4.2\n",
      "Scikit-learn version: 1.0.2\n"
     ]
    }
   ],
   "source": [
    "import pandas as pd\n",
    "import numpy as np\n",
    "import os\n",
    "import sklearn\n",
    "\n",
    "# Type-hinting\n",
    "from typing import List\n",
    "\n",
    "# Plotting\n",
    "import matplotlib.pyplot as plt\n",
    "import seaborn as sns\n",
    "\n",
    "# Check pandas version\n",
    "print(f\"Pandas version: {pd.__version__}\")\n",
    "\n",
    "# Check sklearn version\n",
    "print(f\"Scikit-learn version: {sklearn.__version__}\")"
   ]
  },
  {
   "cell_type": "code",
   "execution_count": 2,
   "id": "6a0e29d3",
   "metadata": {},
   "outputs": [],
   "source": [
    "# Ensure pyarrow is installed to read Parquet files\n",
    "try:\n",
    "    import pyarrow\n",
    "except ImportError:\n",
    "    print(\"pyarrow is not installed. Installing...\")\n",
    "\n",
    "    import sys\n",
    "    !{sys.executable} -m pip install pyarrow"
   ]
  },
  {
   "cell_type": "markdown",
   "id": "e525a359",
   "metadata": {},
   "source": [
    "### Q1. Downloading the Data\n",
    "\n",
    "In this part, we want to read the data files and examine how many data columns are there - what is the information we can retrieve from this dataset, what are the data types, and how many records are available.\n",
    "\n",
    "We will use the January dataset as training data, and February dataset as validation data."
   ]
  },
  {
   "cell_type": "code",
   "execution_count": 3,
   "id": "a221847c",
   "metadata": {},
   "outputs": [],
   "source": [
    "def read_parquet_file(file_path) -> pd.DataFrame:\n",
    "    \"\"\"\n",
    "    Read a Parquet file and return a DataFrame.\n",
    "\n",
    "    :param file_path: Path to the Parquet file\n",
    "    :return: DataFrame containing the data from the Parquet file\n",
    "    \"\"\"\n",
    "    df = pd.read_parquet(file_path)\n",
    "\n",
    "    return df\n",
    "\n",
    "def describe_dataframe(df: pd.DataFrame) -> None:\n",
    "    \"\"\"\n",
    "    Print the description of the DataFrame (example rows, data types, null value, and shape).\n",
    "\n",
    "    :param df: DataFrame to describe\n",
    "    \"\"\"\n",
    "    # Examine the data types and columns of the datasets\n",
    "    print(\"Sample rows:\")\n",
    "    display(df.head(5))\n",
    "\n",
    "    print(\"Data types:\")\n",
    "    display(df.dtypes)\n",
    "\n",
    "    # Check for null values in the DataFrame\n",
    "    print(\"Null values in DataFrame:\")\n",
    "    display(df.isnull().sum())\n",
    "\n",
    "    print(\"Shape:\", df.shape)"
   ]
  },
  {
   "cell_type": "code",
   "execution_count": 4,
   "id": "201bbcf2",
   "metadata": {},
   "outputs": [],
   "source": [
    "# Define data directory\n",
    "DATA_DIR = os.path.join(os.getcwd(), \"data\")\n",
    "\n",
    "# Load the dataset\n",
    "# Here we want to store separate dataframes of each month into separate dataframes\n",
    "df_train = read_parquet_file(os.path.join(DATA_DIR, \"yellow_tripdata_2023-01.parquet\"))\n",
    "df_validation = read_parquet_file(os.path.join(DATA_DIR, \"yellow_tripdata_2023-02.parquet\"))"
   ]
  },
  {
   "cell_type": "code",
   "execution_count": 5,
   "id": "4d8f0e4f",
   "metadata": {},
   "outputs": [
    {
     "name": "stdout",
     "output_type": "stream",
     "text": [
      "Training data (January):\n",
      "Sample rows:\n"
     ]
    },
    {
     "data": {
      "text/html": [
       "<div>\n",
       "<style scoped>\n",
       "    .dataframe tbody tr th:only-of-type {\n",
       "        vertical-align: middle;\n",
       "    }\n",
       "\n",
       "    .dataframe tbody tr th {\n",
       "        vertical-align: top;\n",
       "    }\n",
       "\n",
       "    .dataframe thead th {\n",
       "        text-align: right;\n",
       "    }\n",
       "</style>\n",
       "<table border=\"1\" class=\"dataframe\">\n",
       "  <thead>\n",
       "    <tr style=\"text-align: right;\">\n",
       "      <th></th>\n",
       "      <th>VendorID</th>\n",
       "      <th>tpep_pickup_datetime</th>\n",
       "      <th>tpep_dropoff_datetime</th>\n",
       "      <th>passenger_count</th>\n",
       "      <th>trip_distance</th>\n",
       "      <th>RatecodeID</th>\n",
       "      <th>store_and_fwd_flag</th>\n",
       "      <th>PULocationID</th>\n",
       "      <th>DOLocationID</th>\n",
       "      <th>payment_type</th>\n",
       "      <th>fare_amount</th>\n",
       "      <th>extra</th>\n",
       "      <th>mta_tax</th>\n",
       "      <th>tip_amount</th>\n",
       "      <th>tolls_amount</th>\n",
       "      <th>improvement_surcharge</th>\n",
       "      <th>total_amount</th>\n",
       "      <th>congestion_surcharge</th>\n",
       "      <th>airport_fee</th>\n",
       "    </tr>\n",
       "  </thead>\n",
       "  <tbody>\n",
       "    <tr>\n",
       "      <th>0</th>\n",
       "      <td>2</td>\n",
       "      <td>2023-01-01 00:32:10</td>\n",
       "      <td>2023-01-01 00:40:36</td>\n",
       "      <td>1.0</td>\n",
       "      <td>0.97</td>\n",
       "      <td>1.0</td>\n",
       "      <td>N</td>\n",
       "      <td>161</td>\n",
       "      <td>141</td>\n",
       "      <td>2</td>\n",
       "      <td>9.3</td>\n",
       "      <td>1.00</td>\n",
       "      <td>0.5</td>\n",
       "      <td>0.00</td>\n",
       "      <td>0.0</td>\n",
       "      <td>1.0</td>\n",
       "      <td>14.30</td>\n",
       "      <td>2.5</td>\n",
       "      <td>0.00</td>\n",
       "    </tr>\n",
       "    <tr>\n",
       "      <th>1</th>\n",
       "      <td>2</td>\n",
       "      <td>2023-01-01 00:55:08</td>\n",
       "      <td>2023-01-01 01:01:27</td>\n",
       "      <td>1.0</td>\n",
       "      <td>1.10</td>\n",
       "      <td>1.0</td>\n",
       "      <td>N</td>\n",
       "      <td>43</td>\n",
       "      <td>237</td>\n",
       "      <td>1</td>\n",
       "      <td>7.9</td>\n",
       "      <td>1.00</td>\n",
       "      <td>0.5</td>\n",
       "      <td>4.00</td>\n",
       "      <td>0.0</td>\n",
       "      <td>1.0</td>\n",
       "      <td>16.90</td>\n",
       "      <td>2.5</td>\n",
       "      <td>0.00</td>\n",
       "    </tr>\n",
       "    <tr>\n",
       "      <th>2</th>\n",
       "      <td>2</td>\n",
       "      <td>2023-01-01 00:25:04</td>\n",
       "      <td>2023-01-01 00:37:49</td>\n",
       "      <td>1.0</td>\n",
       "      <td>2.51</td>\n",
       "      <td>1.0</td>\n",
       "      <td>N</td>\n",
       "      <td>48</td>\n",
       "      <td>238</td>\n",
       "      <td>1</td>\n",
       "      <td>14.9</td>\n",
       "      <td>1.00</td>\n",
       "      <td>0.5</td>\n",
       "      <td>15.00</td>\n",
       "      <td>0.0</td>\n",
       "      <td>1.0</td>\n",
       "      <td>34.90</td>\n",
       "      <td>2.5</td>\n",
       "      <td>0.00</td>\n",
       "    </tr>\n",
       "    <tr>\n",
       "      <th>3</th>\n",
       "      <td>1</td>\n",
       "      <td>2023-01-01 00:03:48</td>\n",
       "      <td>2023-01-01 00:13:25</td>\n",
       "      <td>0.0</td>\n",
       "      <td>1.90</td>\n",
       "      <td>1.0</td>\n",
       "      <td>N</td>\n",
       "      <td>138</td>\n",
       "      <td>7</td>\n",
       "      <td>1</td>\n",
       "      <td>12.1</td>\n",
       "      <td>7.25</td>\n",
       "      <td>0.5</td>\n",
       "      <td>0.00</td>\n",
       "      <td>0.0</td>\n",
       "      <td>1.0</td>\n",
       "      <td>20.85</td>\n",
       "      <td>0.0</td>\n",
       "      <td>1.25</td>\n",
       "    </tr>\n",
       "    <tr>\n",
       "      <th>4</th>\n",
       "      <td>2</td>\n",
       "      <td>2023-01-01 00:10:29</td>\n",
       "      <td>2023-01-01 00:21:19</td>\n",
       "      <td>1.0</td>\n",
       "      <td>1.43</td>\n",
       "      <td>1.0</td>\n",
       "      <td>N</td>\n",
       "      <td>107</td>\n",
       "      <td>79</td>\n",
       "      <td>1</td>\n",
       "      <td>11.4</td>\n",
       "      <td>1.00</td>\n",
       "      <td>0.5</td>\n",
       "      <td>3.28</td>\n",
       "      <td>0.0</td>\n",
       "      <td>1.0</td>\n",
       "      <td>19.68</td>\n",
       "      <td>2.5</td>\n",
       "      <td>0.00</td>\n",
       "    </tr>\n",
       "  </tbody>\n",
       "</table>\n",
       "</div>"
      ],
      "text/plain": [
       "   VendorID tpep_pickup_datetime tpep_dropoff_datetime  passenger_count  \\\n",
       "0         2  2023-01-01 00:32:10   2023-01-01 00:40:36              1.0   \n",
       "1         2  2023-01-01 00:55:08   2023-01-01 01:01:27              1.0   \n",
       "2         2  2023-01-01 00:25:04   2023-01-01 00:37:49              1.0   \n",
       "3         1  2023-01-01 00:03:48   2023-01-01 00:13:25              0.0   \n",
       "4         2  2023-01-01 00:10:29   2023-01-01 00:21:19              1.0   \n",
       "\n",
       "   trip_distance  RatecodeID store_and_fwd_flag  PULocationID  DOLocationID  \\\n",
       "0           0.97         1.0                  N           161           141   \n",
       "1           1.10         1.0                  N            43           237   \n",
       "2           2.51         1.0                  N            48           238   \n",
       "3           1.90         1.0                  N           138             7   \n",
       "4           1.43         1.0                  N           107            79   \n",
       "\n",
       "   payment_type  fare_amount  extra  mta_tax  tip_amount  tolls_amount  \\\n",
       "0             2          9.3   1.00      0.5        0.00           0.0   \n",
       "1             1          7.9   1.00      0.5        4.00           0.0   \n",
       "2             1         14.9   1.00      0.5       15.00           0.0   \n",
       "3             1         12.1   7.25      0.5        0.00           0.0   \n",
       "4             1         11.4   1.00      0.5        3.28           0.0   \n",
       "\n",
       "   improvement_surcharge  total_amount  congestion_surcharge  airport_fee  \n",
       "0                    1.0         14.30                   2.5         0.00  \n",
       "1                    1.0         16.90                   2.5         0.00  \n",
       "2                    1.0         34.90                   2.5         0.00  \n",
       "3                    1.0         20.85                   0.0         1.25  \n",
       "4                    1.0         19.68                   2.5         0.00  "
      ]
     },
     "metadata": {},
     "output_type": "display_data"
    },
    {
     "name": "stdout",
     "output_type": "stream",
     "text": [
      "Data types:\n"
     ]
    },
    {
     "data": {
      "text/plain": [
       "VendorID                          int64\n",
       "tpep_pickup_datetime     datetime64[ns]\n",
       "tpep_dropoff_datetime    datetime64[ns]\n",
       "passenger_count                 float64\n",
       "trip_distance                   float64\n",
       "RatecodeID                      float64\n",
       "store_and_fwd_flag               object\n",
       "PULocationID                      int64\n",
       "DOLocationID                      int64\n",
       "payment_type                      int64\n",
       "fare_amount                     float64\n",
       "extra                           float64\n",
       "mta_tax                         float64\n",
       "tip_amount                      float64\n",
       "tolls_amount                    float64\n",
       "improvement_surcharge           float64\n",
       "total_amount                    float64\n",
       "congestion_surcharge            float64\n",
       "airport_fee                     float64\n",
       "dtype: object"
      ]
     },
     "metadata": {},
     "output_type": "display_data"
    },
    {
     "name": "stdout",
     "output_type": "stream",
     "text": [
      "Null values in DataFrame:\n"
     ]
    },
    {
     "data": {
      "text/plain": [
       "VendorID                     0\n",
       "tpep_pickup_datetime         0\n",
       "tpep_dropoff_datetime        0\n",
       "passenger_count          71743\n",
       "trip_distance                0\n",
       "RatecodeID               71743\n",
       "store_and_fwd_flag       71743\n",
       "PULocationID                 0\n",
       "DOLocationID                 0\n",
       "payment_type                 0\n",
       "fare_amount                  0\n",
       "extra                        0\n",
       "mta_tax                      0\n",
       "tip_amount                   0\n",
       "tolls_amount                 0\n",
       "improvement_surcharge        0\n",
       "total_amount                 0\n",
       "congestion_surcharge     71743\n",
       "airport_fee              71743\n",
       "dtype: int64"
      ]
     },
     "metadata": {},
     "output_type": "display_data"
    },
    {
     "name": "stdout",
     "output_type": "stream",
     "text": [
      "Shape: (3066766, 19)\n",
      "-----------------------------\n",
      "Validation data (February):\n",
      "Sample rows:\n"
     ]
    },
    {
     "data": {
      "text/html": [
       "<div>\n",
       "<style scoped>\n",
       "    .dataframe tbody tr th:only-of-type {\n",
       "        vertical-align: middle;\n",
       "    }\n",
       "\n",
       "    .dataframe tbody tr th {\n",
       "        vertical-align: top;\n",
       "    }\n",
       "\n",
       "    .dataframe thead th {\n",
       "        text-align: right;\n",
       "    }\n",
       "</style>\n",
       "<table border=\"1\" class=\"dataframe\">\n",
       "  <thead>\n",
       "    <tr style=\"text-align: right;\">\n",
       "      <th></th>\n",
       "      <th>VendorID</th>\n",
       "      <th>tpep_pickup_datetime</th>\n",
       "      <th>tpep_dropoff_datetime</th>\n",
       "      <th>passenger_count</th>\n",
       "      <th>trip_distance</th>\n",
       "      <th>RatecodeID</th>\n",
       "      <th>store_and_fwd_flag</th>\n",
       "      <th>PULocationID</th>\n",
       "      <th>DOLocationID</th>\n",
       "      <th>payment_type</th>\n",
       "      <th>fare_amount</th>\n",
       "      <th>extra</th>\n",
       "      <th>mta_tax</th>\n",
       "      <th>tip_amount</th>\n",
       "      <th>tolls_amount</th>\n",
       "      <th>improvement_surcharge</th>\n",
       "      <th>total_amount</th>\n",
       "      <th>congestion_surcharge</th>\n",
       "      <th>Airport_fee</th>\n",
       "    </tr>\n",
       "  </thead>\n",
       "  <tbody>\n",
       "    <tr>\n",
       "      <th>0</th>\n",
       "      <td>1</td>\n",
       "      <td>2023-02-01 00:32:53</td>\n",
       "      <td>2023-02-01 00:34:34</td>\n",
       "      <td>2.0</td>\n",
       "      <td>0.30</td>\n",
       "      <td>1.0</td>\n",
       "      <td>N</td>\n",
       "      <td>142</td>\n",
       "      <td>163</td>\n",
       "      <td>2</td>\n",
       "      <td>4.4</td>\n",
       "      <td>3.50</td>\n",
       "      <td>0.5</td>\n",
       "      <td>0.0</td>\n",
       "      <td>0.0</td>\n",
       "      <td>1.0</td>\n",
       "      <td>9.40</td>\n",
       "      <td>2.5</td>\n",
       "      <td>0.00</td>\n",
       "    </tr>\n",
       "    <tr>\n",
       "      <th>1</th>\n",
       "      <td>2</td>\n",
       "      <td>2023-02-01 00:35:16</td>\n",
       "      <td>2023-02-01 00:35:30</td>\n",
       "      <td>1.0</td>\n",
       "      <td>0.00</td>\n",
       "      <td>1.0</td>\n",
       "      <td>N</td>\n",
       "      <td>71</td>\n",
       "      <td>71</td>\n",
       "      <td>4</td>\n",
       "      <td>-3.0</td>\n",
       "      <td>-1.00</td>\n",
       "      <td>-0.5</td>\n",
       "      <td>0.0</td>\n",
       "      <td>0.0</td>\n",
       "      <td>-1.0</td>\n",
       "      <td>-5.50</td>\n",
       "      <td>0.0</td>\n",
       "      <td>0.00</td>\n",
       "    </tr>\n",
       "    <tr>\n",
       "      <th>2</th>\n",
       "      <td>2</td>\n",
       "      <td>2023-02-01 00:35:16</td>\n",
       "      <td>2023-02-01 00:35:30</td>\n",
       "      <td>1.0</td>\n",
       "      <td>0.00</td>\n",
       "      <td>1.0</td>\n",
       "      <td>N</td>\n",
       "      <td>71</td>\n",
       "      <td>71</td>\n",
       "      <td>4</td>\n",
       "      <td>3.0</td>\n",
       "      <td>1.00</td>\n",
       "      <td>0.5</td>\n",
       "      <td>0.0</td>\n",
       "      <td>0.0</td>\n",
       "      <td>1.0</td>\n",
       "      <td>5.50</td>\n",
       "      <td>0.0</td>\n",
       "      <td>0.00</td>\n",
       "    </tr>\n",
       "    <tr>\n",
       "      <th>3</th>\n",
       "      <td>1</td>\n",
       "      <td>2023-02-01 00:29:33</td>\n",
       "      <td>2023-02-01 01:01:38</td>\n",
       "      <td>0.0</td>\n",
       "      <td>18.80</td>\n",
       "      <td>1.0</td>\n",
       "      <td>N</td>\n",
       "      <td>132</td>\n",
       "      <td>26</td>\n",
       "      <td>1</td>\n",
       "      <td>70.9</td>\n",
       "      <td>2.25</td>\n",
       "      <td>0.5</td>\n",
       "      <td>0.0</td>\n",
       "      <td>0.0</td>\n",
       "      <td>1.0</td>\n",
       "      <td>74.65</td>\n",
       "      <td>0.0</td>\n",
       "      <td>1.25</td>\n",
       "    </tr>\n",
       "    <tr>\n",
       "      <th>4</th>\n",
       "      <td>2</td>\n",
       "      <td>2023-02-01 00:12:28</td>\n",
       "      <td>2023-02-01 00:25:46</td>\n",
       "      <td>1.0</td>\n",
       "      <td>3.22</td>\n",
       "      <td>1.0</td>\n",
       "      <td>N</td>\n",
       "      <td>161</td>\n",
       "      <td>145</td>\n",
       "      <td>1</td>\n",
       "      <td>17.0</td>\n",
       "      <td>1.00</td>\n",
       "      <td>0.5</td>\n",
       "      <td>3.3</td>\n",
       "      <td>0.0</td>\n",
       "      <td>1.0</td>\n",
       "      <td>25.30</td>\n",
       "      <td>2.5</td>\n",
       "      <td>0.00</td>\n",
       "    </tr>\n",
       "  </tbody>\n",
       "</table>\n",
       "</div>"
      ],
      "text/plain": [
       "   VendorID tpep_pickup_datetime tpep_dropoff_datetime  passenger_count  \\\n",
       "0         1  2023-02-01 00:32:53   2023-02-01 00:34:34              2.0   \n",
       "1         2  2023-02-01 00:35:16   2023-02-01 00:35:30              1.0   \n",
       "2         2  2023-02-01 00:35:16   2023-02-01 00:35:30              1.0   \n",
       "3         1  2023-02-01 00:29:33   2023-02-01 01:01:38              0.0   \n",
       "4         2  2023-02-01 00:12:28   2023-02-01 00:25:46              1.0   \n",
       "\n",
       "   trip_distance  RatecodeID store_and_fwd_flag  PULocationID  DOLocationID  \\\n",
       "0           0.30         1.0                  N           142           163   \n",
       "1           0.00         1.0                  N            71            71   \n",
       "2           0.00         1.0                  N            71            71   \n",
       "3          18.80         1.0                  N           132            26   \n",
       "4           3.22         1.0                  N           161           145   \n",
       "\n",
       "   payment_type  fare_amount  extra  mta_tax  tip_amount  tolls_amount  \\\n",
       "0             2          4.4   3.50      0.5         0.0           0.0   \n",
       "1             4         -3.0  -1.00     -0.5         0.0           0.0   \n",
       "2             4          3.0   1.00      0.5         0.0           0.0   \n",
       "3             1         70.9   2.25      0.5         0.0           0.0   \n",
       "4             1         17.0   1.00      0.5         3.3           0.0   \n",
       "\n",
       "   improvement_surcharge  total_amount  congestion_surcharge  Airport_fee  \n",
       "0                    1.0          9.40                   2.5         0.00  \n",
       "1                   -1.0         -5.50                   0.0         0.00  \n",
       "2                    1.0          5.50                   0.0         0.00  \n",
       "3                    1.0         74.65                   0.0         1.25  \n",
       "4                    1.0         25.30                   2.5         0.00  "
      ]
     },
     "metadata": {},
     "output_type": "display_data"
    },
    {
     "name": "stdout",
     "output_type": "stream",
     "text": [
      "Data types:\n"
     ]
    },
    {
     "data": {
      "text/plain": [
       "VendorID                          int32\n",
       "tpep_pickup_datetime     datetime64[ns]\n",
       "tpep_dropoff_datetime    datetime64[ns]\n",
       "passenger_count                 float64\n",
       "trip_distance                   float64\n",
       "RatecodeID                      float64\n",
       "store_and_fwd_flag               object\n",
       "PULocationID                      int32\n",
       "DOLocationID                      int32\n",
       "payment_type                      int64\n",
       "fare_amount                     float64\n",
       "extra                           float64\n",
       "mta_tax                         float64\n",
       "tip_amount                      float64\n",
       "tolls_amount                    float64\n",
       "improvement_surcharge           float64\n",
       "total_amount                    float64\n",
       "congestion_surcharge            float64\n",
       "Airport_fee                     float64\n",
       "dtype: object"
      ]
     },
     "metadata": {},
     "output_type": "display_data"
    },
    {
     "name": "stdout",
     "output_type": "stream",
     "text": [
      "Null values in DataFrame:\n"
     ]
    },
    {
     "data": {
      "text/plain": [
       "VendorID                     0\n",
       "tpep_pickup_datetime         0\n",
       "tpep_dropoff_datetime        0\n",
       "passenger_count          76817\n",
       "trip_distance                0\n",
       "RatecodeID               76817\n",
       "store_and_fwd_flag       76817\n",
       "PULocationID                 0\n",
       "DOLocationID                 0\n",
       "payment_type                 0\n",
       "fare_amount                  0\n",
       "extra                        0\n",
       "mta_tax                      0\n",
       "tip_amount                   0\n",
       "tolls_amount                 0\n",
       "improvement_surcharge        0\n",
       "total_amount                 0\n",
       "congestion_surcharge     76817\n",
       "Airport_fee              76817\n",
       "dtype: int64"
      ]
     },
     "metadata": {},
     "output_type": "display_data"
    },
    {
     "name": "stdout",
     "output_type": "stream",
     "text": [
      "Shape: (2913955, 19)\n"
     ]
    }
   ],
   "source": [
    "# Describe the datasets\n",
    "print(\"Training data (January):\")\n",
    "describe_dataframe(df_train)\n",
    "print(\"-----------------------------\")\n",
    "print(\"Validation data (February):\")\n",
    "describe_dataframe(df_validation)"
   ]
  },
  {
   "cell_type": "markdown",
   "id": "75439afa",
   "metadata": {},
   "source": [
    "From looking at the above output, we can see that there are 19 individual columns in the dataframe."
   ]
  },
  {
   "cell_type": "markdown",
   "id": "0a7bfc6e",
   "metadata": {},
   "source": [
    "### Q2. Computing duration\n",
    "\n",
    "We want to find out the standard deviation of trips duration (in minutes) in January."
   ]
  },
  {
   "cell_type": "code",
   "execution_count": 6,
   "id": "a4c3bf36",
   "metadata": {},
   "outputs": [
    {
     "name": "stdout",
     "output_type": "stream",
     "text": [
      "Duration standard deviation: 42.59 minutes\n"
     ]
    }
   ],
   "source": [
    "# First, we need to count the duration of trip based on the pickup and dropoff times\n",
    "# The duration column should be in minutes\n",
    "df_train['duration'] = (df_train['tpep_dropoff_datetime'] - df_train['tpep_pickup_datetime']).dt.total_seconds() / 60.0\n",
    "\n",
    "# Calculate the standard deviation of the duration\n",
    "std_duration = df_train['duration'].std()\n",
    "print(f\"Duration standard deviation: {std_duration:.2f} minutes\")\n"
   ]
  },
  {
   "cell_type": "code",
   "execution_count": 7,
   "id": "e1a533de",
   "metadata": {},
   "outputs": [
    {
     "data": {
      "image/png": "[encoded data removed]",
      "text/plain": [
       "<Figure size 720x432 with 1 Axes>"
      ]
     },
     "metadata": {
      "needs_background": "light"
     },
     "output_type": "display_data"
    }
   ],
   "source": [
    "# Plot the distribution of the duration\n",
    "plt.figure(figsize=(10, 6))\n",
    "sns.boxplot(x=df_train['duration'], color='blue')\n",
    "plt.title(\"Distribution of Trip Duration\")\n",
    "plt.xlabel(\"Duration (minutes)\")\n",
    "plt.show()  "
   ]
  },
  {
   "cell_type": "markdown",
   "id": "b781bffc",
   "metadata": {},
   "source": [
    "\n",
    "We can clearly see a few outliers in the boxplot (around 10000 minutes, 6000, 4000, ...)"
   ]
  },
  {
   "cell_type": "markdown",
   "id": "6d0a2ba6",
   "metadata": {},
   "source": [
    "### Q3. Dropping outliers\n",
    "\n",
    "Here we want to remove outliers in the duration column, which are defined as durations that are not within 1-60 minutes (inclusive). "
   ]
  },
  {
   "cell_type": "code",
   "execution_count": 8,
   "id": "61e41134",
   "metadata": {},
   "outputs": [],
   "source": [
    "def remove_duration_outliers(df: pd.DataFrame, column: str, lower_bound: float, upper_bound: float) -> pd.DataFrame:\n",
    "    \"\"\"\n",
    "    Remove outliers from the DataFrame given a specific column and expected range (lower_bound, upper_bound - inclusive).\n",
    "\n",
    "    :param df: DataFrame to clean\n",
    "    :param lower_bound: Lower bound\n",
    "    :param upper_bound: Upper bound\n",
    "    :return: Cleaned DataFrame\n",
    "    \"\"\"\n",
    "\n",
    "    # Keep only values that are within the specified range\n",
    "    print(f\"Initial number of rows: {len(df)}\")\n",
    "    keep = (df[column] >= lower_bound) & (df[column] <= upper_bound)\n",
    "\n",
    "    # Count how many outliers are found\n",
    "    print(f\"Number of records within range ({lower_bound}, {upper_bound}): {keep.sum()}\")\n",
    "\n",
    "    # Check the number of rows after filtering\n",
    "    df_clean = df[keep]\n",
    "    percent_kept = keep.sum() / len(df_train) * 100\n",
    "    print(f\"Percentage of records removed: {100-percent_kept:.2f}%\")\n",
    "    print(f\"Percentage of records kept: {percent_kept:.2f}%\")\n",
    "\n",
    "    return df_clean"
   ]
  },
  {
   "cell_type": "code",
   "execution_count": 9,
   "id": "a8d8c3df",
   "metadata": {},
   "outputs": [
    {
     "name": "stdout",
     "output_type": "stream",
     "text": [
      "Initial number of rows: 3066766\n",
      "Number of records within range (1, 60): 3009173\n",
      "Percentage of records removed: 1.88%\n",
      "Percentage of records kept: 98.12%\n"
     ]
    },
    {
     "data": {
      "image/png": "[encoded data removed]",
      "text/plain": [
       "<Figure size 720x432 with 1 Axes>"
      ]
     },
     "metadata": {
      "needs_background": "light"
     },
     "output_type": "display_data"
    },
    {
     "data": {
      "text/plain": [
       "count    3.009173e+06\n",
       "mean     1.420486e+01\n",
       "std      9.939386e+00\n",
       "min      1.000000e+00\n",
       "25%      7.216667e+00\n",
       "50%      1.155000e+01\n",
       "75%      1.818333e+01\n",
       "max      6.000000e+01\n",
       "Name: duration, dtype: float64"
      ]
     },
     "metadata": {},
     "output_type": "display_data"
    }
   ],
   "source": [
    "df_train_clean = remove_duration_outliers(df_train, 'duration', 1, 60)\n",
    "\n",
    "plt.figure(figsize=(10, 6))\n",
    "sns.boxplot(x=df_train_clean['duration'], color='blue')\n",
    "plt.title(\"Distribution of Trip Duration (Without Outliers)\")\n",
    "plt.xlabel(\"Duration (minutes)\")\n",
    "plt.show()  \n",
    "\n",
    "display(df_train_clean[\"duration\"].describe())"
   ]
  },
  {
   "cell_type": "markdown",
   "id": "8a06f2da",
   "metadata": {},
   "source": [
    "Now it looks better! The duration data is between 1-60 minutes, with a mean of 14.2 minutes."
   ]
  },
  {
   "cell_type": "markdown",
   "id": "ee117b5e",
   "metadata": {},
   "source": [
    "### Q4. One-hot Encoding\n",
    "\n",
    "To train a model, first we need to extract the features. We want to use the pickup and dropoff location IDs as the features for our model. Firstly, we need to one-hot encode them - the location IDs are categorical variables.\n",
    "\n",
    "Instructions:\n",
    "- Turn the dataframe into a list of dictionaries (remember to re-cast the ids to strings - otherwise it will label encode them)\n",
    "- Fit a dictionary vectorizer\n",
    "- Get a feature matrix from it"
   ]
  },
  {
   "cell_type": "code",
   "execution_count": 10,
   "id": "a70bcd64",
   "metadata": {},
   "outputs": [],
   "source": [
    "FEATURES = ['PULocationID', 'DOLocationID']"
   ]
  },
  {
   "cell_type": "code",
   "execution_count": 11,
   "id": "7b9e3678",
   "metadata": {},
   "outputs": [],
   "source": [
    "from sklearn.feature_extraction import DictVectorizer\n",
    "\n",
    "def transform_dataframe_to_dict(df: pd.DataFrame, columns: List[str], cast: str = str) -> List[dict]:\n",
    "    \"\"\"\n",
    "    Transform the DataFrame into a list of dictionaries for the specified columns. If cast is str, cast the columns to string.\n",
    "    :param df: DataFrame to transform\n",
    "    :param columns: List of columns to include in the transformation\n",
    "    :param cast: Type to cast the columns to (default is str)\n",
    "    :return: List of dictionaries representing the DataFrame\n",
    "    \"\"\"\n",
    "    # Keep only the relevant columns and cast to desired type\n",
    "    df_features = df[columns].astype(cast)\n",
    "\n",
    "    # Convert the DataFrame to a list of dictionaries\n",
    "    df_dict = df_features.to_dict(orient='records')\n",
    "    print(\"Transformed data (first 3 rows):\", df_dict[:3])\n",
    "    return df_dict\n",
    "\n",
    "\n",
    "def train_categorical_one_hot_encode(list_dict: List[dict]) -> np.ndarray:\n",
    "    \"\"\"\n",
    "    Train a one-hot encoder for the specified categorical columns in the DataFrame, and return the feature matrix.\n",
    "\n",
    "    :param df: DataFrame to encode\n",
    "    :param column: Column to one-hot encode\n",
    "    :return: DataFrame with one-hot encoded column\n",
    "    \"\"\"\n",
    "    # Vectorize the data\n",
    "    dv = DictVectorizer(sparse=True)  # Using sparse=True for memory efficiency\n",
    "    dv = dv.fit(list_dict)\n",
    "\n",
    "    return dv"
   ]
  },
  {
   "cell_type": "code",
   "execution_count": 12,
   "id": "17819673",
   "metadata": {},
   "outputs": [
    {
     "name": "stdout",
     "output_type": "stream",
     "text": [
      "Transformed data (first 3 rows): [{'PULocationID': '161', 'DOLocationID': '141'}, {'PULocationID': '43', 'DOLocationID': '237'}, {'PULocationID': '48', 'DOLocationID': '238'}]\n"
     ]
    }
   ],
   "source": [
    "df_train_dict = transform_dataframe_to_dict(df_train_clean, FEATURES)\n",
    "\n",
    "# One-hot encode the categorical features\n",
    "dv = train_categorical_one_hot_encode(df_train_dict)\n",
    "X_train = dv.transform(df_train_dict)"
   ]
  },
  {
   "cell_type": "code",
   "execution_count": 13,
   "id": "cc1e0188",
   "metadata": {},
   "outputs": [
    {
     "data": {
      "text/plain": [
       "(3009173, 515)"
      ]
     },
     "execution_count": 13,
     "metadata": {},
     "output_type": "execute_result"
    }
   ],
   "source": [
    "# Examine the feature matrix\n",
    "X_train.shape"
   ]
  },
  {
   "cell_type": "markdown",
   "id": "127f082a",
   "metadata": {},
   "source": [
    "The training dataset contains 3.009.173 rows and 515 columns."
   ]
  },
  {
   "cell_type": "markdown",
   "id": "55db92cb",
   "metadata": {},
   "source": [
    "### Q5. Training a model\n",
    "\n",
    "We want to train a simple Linear Regression model with `duration` as the target variable. We will initially use default parameters."
   ]
  },
  {
   "cell_type": "code",
   "execution_count": 14,
   "id": "b731464e",
   "metadata": {},
   "outputs": [
    {
     "name": "stdout",
     "output_type": "stream",
     "text": [
      "RMSE on training data: 7.65 minutes\n"
     ]
    }
   ],
   "source": [
    "from sklearn.linear_model import LinearRegression\n",
    "from sklearn.metrics import mean_squared_error\n",
    "\n",
    "# Define the target variable\n",
    "y_train = df_train_clean['duration'].to_numpy()\n",
    "\n",
    "# Train the model\n",
    "model = LinearRegression()\n",
    "model.fit(X_train, y_train)\n",
    "\n",
    "# Calculate RMSE on the training data\n",
    "y_train_preds = model.predict(X_train)\n",
    "rmse_train = mean_squared_error(y_train, y_train_preds, squared=False)\n",
    "print(f\"RMSE on training data: {rmse_train:.2f} minutes\")"
   ]
  },
  {
   "cell_type": "code",
   "execution_count": 15,
   "id": "898c9393",
   "metadata": {},
   "outputs": [
    {
     "name": "stderr",
     "output_type": "stream",
     "text": [
      "/home/codespace/anaconda3/lib/python3.9/site-packages/seaborn/distributions.py:2619: FutureWarning: `distplot` is a deprecated function and will be removed in a future version. Please adapt your code to use either `displot` (a figure-level function with similar flexibility) or `histplot` (an axes-level function for histograms).\n",
      "  warnings.warn(msg, FutureWarning)\n",
      "/home/codespace/anaconda3/lib/python3.9/site-packages/seaborn/distributions.py:2619: FutureWarning: `distplot` is a deprecated function and will be removed in a future version. Please adapt your code to use either `displot` (a figure-level function with similar flexibility) or `histplot` (an axes-level function for histograms).\n",
      "  warnings.warn(msg, FutureWarning)\n"
     ]
    },
    {
     "data": {
      "image/png": "[encoded data removed]",
      "text/plain": [
       "<Figure size 720x432 with 1 Axes>"
      ]
     },
     "metadata": {
      "needs_background": "light"
     },
     "output_type": "display_data"
    }
   ],
   "source": [
    "# Visualize predictions vs. actual values\n",
    "plt.figure(figsize=(10, 6))\n",
    "sns.distplot(y_train_preds, label='Predictions', color='blue', kde=True)\n",
    "sns.distplot(y_train, label='Actual', color='red', kde=True)\n",
    "plt.title(\"Predictions vs Actual Trip Duration\")\n",
    "plt.xlabel(\"Duration (minutes)\")\n",
    "plt.ylabel(\"Density\")\n",
    "plt.legend()\n",
    "plt.show()"
   ]
  },
  {
   "cell_type": "markdown",
   "id": "ea33da44",
   "metadata": {},
   "source": [
    "### Q6. Evaluating the Model\n",
    "\n",
    "Now we want to run the trained model on the test data and evaluate the results. As above, we will use the RMSE as the evaluation metric."
   ]
  },
  {
   "cell_type": "code",
   "execution_count": 16,
   "id": "cc46b0f6",
   "metadata": {},
   "outputs": [
    {
     "name": "stdout",
     "output_type": "stream",
     "text": [
      "Preparing validation data...\n",
      "Initial number of rows: 2913955\n",
      "Number of records within range (1, 60): 2855951\n",
      "Percentage of records removed: 6.87%\n",
      "Percentage of records kept: 93.13%\n",
      "Transformed data (first 3 rows): [{'PULocationID': '142', 'DOLocationID': '163'}, {'PULocationID': '132', 'DOLocationID': '26'}, {'PULocationID': '161', 'DOLocationID': '145'}]\n",
      "(2855951, 515)\n"
     ]
    }
   ],
   "source": [
    "print(\"Preparing validation data...\")\n",
    "\n",
    "# Prepare the validation dataset\n",
    "df_validation['duration'] = (df_validation['tpep_dropoff_datetime'] - df_validation['tpep_pickup_datetime']).dt.total_seconds() / 60.0\n",
    "df_validation_clean = remove_duration_outliers(df_validation, 'duration', 1, 60)\n",
    "\n",
    "df_val_dict = transform_dataframe_to_dict(df_validation_clean, FEATURES)\n",
    "\n",
    "# One-hot encode the categorical features\n",
    "X_val = dv.transform(df_val_dict)\n",
    "print(X_val.shape)"
   ]
  },
  {
   "cell_type": "code",
   "execution_count": 17,
   "id": "2fba3eb4",
   "metadata": {},
   "outputs": [],
   "source": [
    "# Define the target variable for validation\n",
    "y_val = df_validation_clean['duration'].to_numpy()"
   ]
  },
  {
   "cell_type": "code",
   "execution_count": 19,
   "id": "4a5300ff",
   "metadata": {},
   "outputs": [
    {
     "name": "stdout",
     "output_type": "stream",
     "text": [
      "RMSE on validation data: 7.81 minutes\n"
     ]
    }
   ],
   "source": [
    "# Run the model\n",
    "y_val_preds = model.predict(X_val)\n",
    "rmse_val = mean_squared_error(y_val, y_val_preds, squared=False)\n",
    "print(f\"RMSE on validation data: {rmse_val:.2f} minutes\")"
   ]
  },
  {
   "cell_type": "code",
   "execution_count": 20,
   "id": "cc1c4787",
   "metadata": {},
   "outputs": [
    {
     "name": "stderr",
     "output_type": "stream",
     "text": [
      "/home/codespace/anaconda3/lib/python3.9/site-packages/seaborn/distributions.py:2619: FutureWarning: `distplot` is a deprecated function and will be removed in a future version. Please adapt your code to use either `displot` (a figure-level function with similar flexibility) or `histplot` (an axes-level function for histograms).\n",
      "  warnings.warn(msg, FutureWarning)\n",
      "/home/codespace/anaconda3/lib/python3.9/site-packages/seaborn/distributions.py:2619: FutureWarning: `distplot` is a deprecated function and will be removed in a future version. Please adapt your code to use either `displot` (a figure-level function with similar flexibility) or `histplot` (an axes-level function for histograms).\n",
      "  warnings.warn(msg, FutureWarning)\n"
     ]
    },
    {
     "data": {
      "image/png": "[encoded data removed]",
      "text/plain": [
       "<Figure size 720x432 with 1 Axes>"
      ]
     },
     "metadata": {
      "needs_background": "light"
     },
     "output_type": "display_data"
    }
   ],
   "source": [
    "# Visualize predictions vs. actual values\n",
    "plt.figure(figsize=(10, 6))\n",
    "sns.distplot(y_val_preds, label='Predictions', color='blue', kde=True)\n",
    "sns.distplot(y_val, label='Actual', color='red', kde=True)\n",
    "plt.title(\"Predictions vs Actual Trip Duration\")\n",
    "plt.xlabel(\"Duration (minutes)\")\n",
    "plt.ylabel(\"Density\")\n",
    "plt.legend()\n",
    "plt.show()"
   ]
  }
 ],
 "metadata": {
  "kernelspec": {
   "display_name": "base",
   "language": "python",
   "name": "python3"
  },
  "language_info": {
   "codemirror_mode": {
    "name": "ipython",
    "version": 3
   },
   "file_extension": ".py",
   "mimetype": "text/x-python",
   "name": "python",
   "nbconvert_exporter": "python",
   "pygments_lexer": "ipython3",
   "version": "3.9.12"
  }
 },
 "nbformat": 4,
 "nbformat_minor": 5
}
